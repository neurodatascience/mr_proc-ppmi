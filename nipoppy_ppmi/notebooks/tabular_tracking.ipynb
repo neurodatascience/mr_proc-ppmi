{
 "cells": [
  {
   "attachments": {},
   "cell_type": "markdown",
   "metadata": {},
   "source": [
    "## Notebook to keep track of tabular data\n",
    "PPMI [documentation](https://www.ppmi-info.org/sites/default/files/docs/PPMI%20Data%20User%20Guide%20v.1.0.pdf).\n",
    "\n",
    "### Currently collating and tracking following assessments:\n",
    "    - UPDRS\n",
    "    - MoCA\n",
    "\n",
    "### Notes\n",
    "    - MDS-UPDRS_Part_I.csv has `NP1RTOT` i.e MDS-UPDRS Part I (Rater Completed) Total Score\n",
    "    - MDS-UPDRS_Part_I_Patient_Questionnaire.csv has `NP1PTOT` i.e. MDS-UPDRS Part I (Patient Questionnaire) Total Score\n",
    "    - UPDRS-3 has medication on/off info which needs to be filtered carefully. See PPMI documentation. \n",
    "\n",
    "### TODO\n",
    "    - Add \"INFODT\" (i.e. date of assessment)\n",
    "    - Add PAG specific columns (i.e. medication on/off scores)\n"
   ]
  },
  {
   "cell_type": "code",
   "execution_count": null,
   "metadata": {},
   "outputs": [],
   "source": [
    "import numpy as np\n",
    "import pandas as pd\n",
    "import seaborn as sns\n",
    "import matplotlib.pyplot as plt\n",
    "from itertools import product"
   ]
  },
  {
   "cell_type": "code",
   "execution_count": null,
   "metadata": {},
   "outputs": [],
   "source": [
    "ppmi_dir = \"/home/nikhil/projects/Parkinsons/ppmi/releases/Dec_2022/\"\n",
    "tabular_dir = f\"{ppmi_dir}tabular\"\n",
    "demographics_dir = f\"{tabular_dir}/demographics\"\n",
    "study_data_dir = f\"{tabular_dir}/assessments\"\n",
    "\n",
    "# Populate bids_id in the bagel.csv\n",
    "bids_dir = f\"{ppmi_dir}/bids\"\n",
    "bids_participants_tsv = f\"{bids_dir}/participants.tsv\"\n",
    "\n",
    "# Available clinical visits (These are differently named than imaging sessions (i.e. session.csv))\n",
    "# These are generated based on Vincent's notebooks/subject_profiling.ipynb\n",
    "visits_csv = f\"{demographics_dir}/event_session_visits.csv\" \n",
    "\n",
    "clinical_assessment_files = {\n",
    "                \"updrs_1\": \"MDS-UPDRS_Part_I.csv\",\n",
    "                \"updrs_1_PQ\": \"MDS-UPDRS_Part_I_Patient_Questionnaire.csv\",\n",
    "                \"updrs_2_PQ\": \"MDS_UPDRS_Part_II__Patient_Questionnaire.csv\",\n",
    "                \"updrs_3\": \"MDS_UPDRS_Part_III.csv\",\n",
    "                \"updrs_4_MC\":\"MDS-UPDRS_Part_IV__Motor_Complications.csv\",\n",
    "                \"moca\":\"Montreal_Cognitive_Assessment__MoCA_.csv\"\n",
    "}\n",
    "\n",
    "bagel_csv = f\"{tabular_dir}/bagel.csv\""
   ]
  },
  {
   "cell_type": "markdown",
   "metadata": {},
   "source": [
    "### PPMI manifest"
   ]
  },
  {
   "cell_type": "code",
   "execution_count": null,
   "metadata": {},
   "outputs": [],
   "source": [
    "current_manifest_csv = f\"{demographics_dir}/manifest.csv\"\n",
    "current_manifest_df = pd.read_csv(current_manifest_csv)\n",
    "\n",
    "n_participants = len(current_manifest_df[\"participant_id\"].unique())\n",
    "print(f\"n_participants: {n_participants}\")\n",
    "\n",
    "dx_groups = current_manifest_df[\"group\"].unique()\n",
    "print(f\"groups: {dx_groups}\")\n",
    "select_dx_groups = ['PD', 'Prodromal', 'Control', 'SWEDD']\n",
    "print(f\"select groups: {select_dx_groups}\")\n",
    "current_manifest_df = current_manifest_df[current_manifest_df[\"group\"].isin(select_dx_groups)]\n",
    "\n",
    "n_participants = len(current_manifest_df[\"participant_id\"].unique())\n",
    "print(f\"n_participants: {n_participants}\")\n",
    "\n",
    "# Add PATNO column name to match with PPMI study data\n",
    "current_manifest_df[\"participant_id\"] = current_manifest_df[\"participant_id\"].astype(str)\n",
    "current_manifest_df[\"PATNO\"] = current_manifest_df[\"participant_id\"]\n",
    "\n",
    "current_manifest_df.head()"
   ]
  },
  {
   "cell_type": "markdown",
   "metadata": {},
   "source": [
    "### Add available bids ids from participants.tsv"
   ]
  },
  {
   "cell_type": "code",
   "execution_count": null,
   "metadata": {},
   "outputs": [],
   "source": [
    "bids_participants_df = pd.read_csv(bids_participants_tsv,sep=\"\\t\")\n",
    "n_bids_participants = len(bids_participants_df[\"participant_id\"].unique())\n",
    "print(f\"Available bids participants: {n_bids_participants}\")\n",
    "bids_participants_df[\"bids_id\"] = bids_participants_df[\"participant_id\"]\n",
    "bids_participants_df[\"PATNO\"] = bids_participants_df[\"participant_id\"].str.split(\"-\",expand=True)[1].astype(str)\n",
    "current_manifest_df = pd.merge(current_manifest_df, bids_participants_df[[\"PATNO\",\"bids_id\"]], on=\"PATNO\", how=\"left\")\n",
    "\n",
    "n_participants = len(current_manifest_df[\"participant_id\"].unique())\n",
    "print(f\"n_participants: {n_participants}\")\n",
    "\n",
    "current_manifest_df.head()"
   ]
  },
  {
   "cell_type": "markdown",
   "metadata": {},
   "source": [
    "### Available clinical visits (these are different than imaging sessions)\n",
    "- Need to select a subset you expect data for \n",
    "\n",
    "### BIDS session code (infered from DICOMs) to LONI EVENT_IDs MAP\n",
    "session_dict = {0: \"Screening\",1: \"Baseline\", 5: \"Month 12\",7: \"Month 24\",9: \"Month 36\",11: \"Month 48\"}\n",
    "\n",
    "event_dict = {\"BL\": \"Baseline\", \"SC\":\"Screening\", \"V04\":\"Month 12\", \"V06\": \"Month 24\", \"V08\": \"Month 36\", \"V10\": \"Month 48\", \"V12\": \"Month 60\"}"
   ]
  },
  {
   "cell_type": "code",
   "execution_count": null,
   "metadata": {},
   "outputs": [],
   "source": [
    "visit_df = pd.read_csv(visits_csv)\n",
    "event_ids = visit_df[\"EVENT_ID\"]\n",
    "print(f\"Number of total possible visits: {len(event_ids)}\")\n",
    "visit_df"
   ]
  },
  {
   "attachments": {},
   "cell_type": "markdown",
   "metadata": {},
   "source": [
    "### Read all UPDRS scores"
   ]
  },
  {
   "attachments": {},
   "cell_type": "markdown",
   "metadata": {},
   "source": [
    "#### UPDRS-1"
   ]
  },
  {
   "cell_type": "code",
   "execution_count": null,
   "metadata": {},
   "outputs": [],
   "source": [
    "updrs_part_1_df = pd.read_csv(f\"{study_data_dir}/{clinical_assessment_files['updrs_1']}\")\n",
    "n_records = len(updrs_part_1_df)\n",
    "n_participants = len(updrs_part_1_df[\"PATNO\"].unique())\n",
    "n_events = len(updrs_part_1_df[\"EVENT_ID\"].unique())\n",
    "n_PAG = len(updrs_part_1_df[\"PAG_NAME\"].unique())\n",
    "print(f\"n_records: {n_records}, n_participants={n_participants}, n_events={n_events}, n_PAG={n_PAG}\")\n",
    "updrs_part_1_df.head()"
   ]
  },
  {
   "cell_type": "code",
   "execution_count": null,
   "metadata": {},
   "outputs": [],
   "source": [
    "updrs_part_1_PQ_df = pd.read_csv(f\"{study_data_dir}/{clinical_assessment_files['updrs_1_PQ']}\")\n",
    "n_records = len(updrs_part_1_PQ_df)\n",
    "n_participants = len(updrs_part_1_PQ_df[\"PATNO\"].unique())\n",
    "n_events = len(updrs_part_1_PQ_df[\"EVENT_ID\"].unique())\n",
    "n_PAG = len(updrs_part_1_PQ_df[\"PAG_NAME\"].unique())\n",
    "print(f\"n_records: {n_records}, n_participants={n_participants}, n_events={n_events}, n_PAG={n_PAG}\")\n",
    "updrs_part_1_PQ_df.head()"
   ]
  },
  {
   "cell_type": "code",
   "execution_count": null,
   "metadata": {},
   "outputs": [],
   "source": [
    "updrs_part_1_PQ_df.groupby([\"PAG_NAME\"]).count()"
   ]
  },
  {
   "attachments": {},
   "cell_type": "markdown",
   "metadata": {},
   "source": [
    "#### UPDRS-2"
   ]
  },
  {
   "cell_type": "code",
   "execution_count": null,
   "metadata": {},
   "outputs": [],
   "source": [
    "updrs_part_2_PQ_df = pd.read_csv(f\"{study_data_dir}/{clinical_assessment_files['updrs_2_PQ']}\")\n",
    "n_records = len(updrs_part_2_PQ_df)\n",
    "n_participants = len(updrs_part_2_PQ_df[\"PATNO\"].unique())\n",
    "n_events = len(updrs_part_2_PQ_df[\"EVENT_ID\"].unique())\n",
    "n_PAG = len(updrs_part_2_PQ_df[\"PAG_NAME\"].unique())\n",
    "print(f\"n_records: {n_records}, n_participants={n_participants}, n_events={n_events}, n_PAG={n_PAG}\")\n",
    "updrs_part_2_PQ_df.head()"
   ]
  },
  {
   "cell_type": "code",
   "execution_count": null,
   "metadata": {},
   "outputs": [],
   "source": [
    "updrs_part_2_PQ_df.groupby([\"PAG_NAME\"]).count()"
   ]
  },
  {
   "attachments": {},
   "cell_type": "markdown",
   "metadata": {},
   "source": [
    "#### UPDRS-3\n",
    "- this is most commonly used for motor function\n",
    "- this is sensitive to medication \"ON\" and \"OFF\" stages"
   ]
  },
  {
   "cell_type": "code",
   "execution_count": null,
   "metadata": {},
   "outputs": [],
   "source": [
    "updrs_part_3_df = pd.read_csv(f\"{study_data_dir}/{clinical_assessment_files['updrs_3']}\",low_memory=False)\n",
    "n_records = len(updrs_part_3_df)\n",
    "n_participants = len(updrs_part_3_df[\"PATNO\"].unique())\n",
    "n_events = len(updrs_part_3_df[\"EVENT_ID\"].unique())\n",
    "n_PAG = len(updrs_part_3_df[\"PAG_NAME\"].unique())\n",
    "print(f\"n_records: {n_records}, n_participants={n_participants}, n_events={n_events}, n_PAG={n_PAG}\")\n",
    "updrs_part_3_df.head()"
   ]
  },
  {
   "attachments": {},
   "cell_type": "markdown",
   "metadata": {},
   "source": [
    "#### Plot `on` vs `off` scores"
   ]
  },
  {
   "cell_type": "code",
   "execution_count": null,
   "metadata": {},
   "outputs": [],
   "source": [
    "plot_df = updrs_part_3_df.copy()\n",
    "plot_df = plot_df[plot_df[\"EVENT_ID\"].isin(visit_df[\"EVENT_ID\"].values)]\n",
    "participants_with_medication_info = plot_df[plot_df[\"PAG_NAME\"]==\"NUPDR3ON\"][\"PATNO\"].values\n",
    "print(f\"participants_with_medication_info: {len(participants_with_medication_info)}\")\n",
    "plot_df = plot_df[plot_df[\"PATNO\"].isin(participants_with_medication_info)]\n",
    "sns.set(font_scale=1)\n",
    "with sns.axes_style(\"whitegrid\"):\n",
    "    g = sns.catplot(x=\"EVENT_ID\", y=\"NP3TOT\",hue=\"PAG_NAME\", data=plot_df, \n",
    "                    aspect=2, kind=\"box\")"
   ]
  },
  {
   "cell_type": "code",
   "execution_count": null,
   "metadata": {},
   "outputs": [],
   "source": [
    "updrs_part_3_df.groupby([\"PAG_NAME\"]).count()"
   ]
  },
  {
   "cell_type": "markdown",
   "metadata": {},
   "source": [
    "#### UPDRS-4"
   ]
  },
  {
   "cell_type": "code",
   "execution_count": null,
   "metadata": {},
   "outputs": [],
   "source": [
    "updrs_part_4_MC_df = pd.read_csv(f\"{study_data_dir}/{clinical_assessment_files['updrs_4_MC']}\")\n",
    "n_records = len(updrs_part_4_MC_df)\n",
    "n_participants = len(updrs_part_4_MC_df[\"PATNO\"].unique())\n",
    "n_events = len(updrs_part_4_MC_df[\"EVENT_ID\"].unique())\n",
    "n_PAG = len(updrs_part_4_MC_df[\"PAG_NAME\"].unique())\n",
    "print(f\"n_records: {n_records}, n_participants={n_participants}, n_events={n_events}, n_PAG={n_PAG}\")\n",
    "updrs_part_4_MC_df.head()"
   ]
  },
  {
   "cell_type": "markdown",
   "metadata": {},
   "source": [
    "### Read MoCA scores"
   ]
  },
  {
   "cell_type": "code",
   "execution_count": null,
   "metadata": {},
   "outputs": [],
   "source": [
    "MoCA_df = pd.read_csv(f\"{study_data_dir}/{clinical_assessment_files['moca']}\")\n",
    "n_records = len(MoCA_df)\n",
    "n_participants = len(MoCA_df[\"PATNO\"].unique())\n",
    "n_events = len(MoCA_df[\"EVENT_ID\"].unique())\n",
    "n_PAG = len(MoCA_df[\"PAG_NAME\"].unique())\n",
    "print(f\"n_records: {n_records}, n_participants={n_participants}, n_events={n_events}, n_PAG={n_PAG}\")\n",
    "MoCA_df.head()"
   ]
  },
  {
   "cell_type": "markdown",
   "metadata": {},
   "source": [
    "### Merge demographics, all UPDRS and MoCA total Scores into single CSV"
   ]
  },
  {
   "cell_type": "code",
   "execution_count": null,
   "metadata": {},
   "outputs": [],
   "source": [
    "participant_ids = current_manifest_df[\"participant_id\"].values.astype(str)\n",
    "print(f\"n_participants = {len(participant_ids)}\")\n",
    "a,b = zip(*list(product(participant_ids,event_ids)))\n",
    "\n",
    "bagel_df = pd.DataFrame()\n",
    "bagel_df[\"participant_id\"] = a\n",
    "bagel_df[\"EVENT_ID\"] = b\n",
    "\n",
    "print(f\"Creating empty dataframe with all ({len(bagel_df)}) possible records i.e. combinations of participant_id and EVENT_ID\")\n",
    "# merge manifest df (Scores will have multiple visits but manifest currently only has single visit)\n",
    "# TODO \n",
    "# - initialize this with updated manifest\n",
    "# - Add \"INFODT\" (i.e. date of assessment)\n",
    "# - Add PAG specific columns (i.e. medication on/off scores)\n",
    "\n",
    "baseline_visit = \"BL\"\n",
    "current_manifest_df[\"EVENT_ID\"] = baseline_visit\n",
    "bagel_df = pd.merge(bagel_df, current_manifest_df, on=[\"participant_id\",\"EVENT_ID\"], how=\"left\")\n",
    "print(f\"n_records all: {len(bagel_df)}\")\n",
    "# merge updrs and moca\n",
    "total_col_dict = {\n",
    "    \"updrs_1\": {\"col\":\"NP1RTOT\", \"PAG\":\"NUPDRS1\"}, \n",
    "    \"updrs_1_PQ\": {\"col\":\"NP1PTOT\", \"PAG\":\"NUPDRS1P\"},\n",
    "    \"updrs_2_PQ\": {\"col\":\"NP2PTOT\", \"PAG\":\"NUPDRS2P\"},\n",
    "    \"updrs_3\": {\"col\":\"NP3TOT\", \"PAG\":\"NUPDRS3\"},\n",
    "    \"updrs_4_MC\":{\"col\":\"NP4TOT\", \"PAG\":\"NUPDRS4\"},\n",
    "    \"moca\": {\"col\":\"MCATOT\", \"PAG\":\"MOCA\"}\n",
    "}\n",
    "\n",
    "assessment_cols = []\n",
    "for k,v_dict in total_col_dict.items():\n",
    "    score_df = pd.read_csv(f\"{study_data_dir}/{clinical_assessment_files[k]}\",low_memory=False)\n",
    "    score_df[\"participant_id\"] = score_df[\"PATNO\"].astype(str)\n",
    "    col = v_dict[\"col\"]\n",
    "    PAG = v_dict[\"PAG\"] # medication stratification \n",
    "    print(f\"Assessment + PAG: {v_dict}\")\n",
    "    score_df = score_df[score_df[\"PAG_NAME\"]==PAG]\n",
    "    bagel_df = pd.merge(bagel_df, score_df[[\"participant_id\",\"EVENT_ID\", col]], \n",
    "                        on=[\"participant_id\",\"EVENT_ID\"], how=\"left\")\n",
    "\n",
    "    # Assign availability status cols\n",
    "    bagel_df[f\"{col}_status\"] = ~bagel_df[col].isna()\n",
    "    assessment_cols.append(col)\n",
    "\n",
    "    n_records = len(bagel_df)\n",
    "    n_participants = len(bagel_df[\"PATNO\"].unique())\n",
    "    n_events = len(bagel_df[\"EVENT_ID\"].unique())\n",
    "    print(f\"n_records: {n_records}, n_participants={n_participants}, n_events={n_events}\")\n",
    "\n",
    "bagel_df = pd.merge(bagel_df,visit_df, on=[\"EVENT_ID\"], how=\"left\")\n",
    "\n",
    "print(f\"n_records all: {len(bagel_df)}\")\n",
    "# Drop records i.e. (participant_id,EVENT_ID) with no available data (i.e. missing visits)\n",
    "print(\"Dropping records i.e. (participant_id,EVENT_ID) with no available data\")\n",
    "check_data_cols = [\"age\",\"sex\",\"group\"] + assessment_cols\n",
    "bagel_df = bagel_df[~bagel_df[check_data_cols].isna().all(axis=1)]\n",
    "print(f\"n_records (with available visits): {len(bagel_df)}\")\n",
    "\n",
    "bagel_df.head()"
   ]
  },
  {
   "cell_type": "code",
   "execution_count": null,
   "metadata": {},
   "outputs": [],
   "source": [
    "bagel_df.groupby(\"EVENT_ID\").count()"
   ]
  },
  {
   "cell_type": "markdown",
   "metadata": {},
   "source": [
    "### Save bagel_df\n"
   ]
  },
  {
   "cell_type": "code",
   "execution_count": null,
   "metadata": {},
   "outputs": [],
   "source": [
    "save_bagel = False\n",
    "\n",
    "print(f\"Save path: {bagel_csv}\")\n",
    "if save_bagel:\n",
    "    bagel_df.to_csv(bagel_csv, index=None)\n"
   ]
  },
  {
   "cell_type": "code",
   "execution_count": null,
   "metadata": {},
   "outputs": [],
   "source": []
  }
 ],
 "metadata": {
  "interpreter": {
   "hash": "9e85faa3937191409befa9075f65ba0f49919df55e77b3fcca0bc43183dd2917"
  },
  "kernelspec": {
   "display_name": "Python 3.8.5 ('parkinsons')",
   "language": "python",
   "name": "python3"
  },
  "language_info": {
   "codemirror_mode": {
    "name": "ipython",
    "version": 3
   },
   "file_extension": ".py",
   "mimetype": "text/x-python",
   "name": "python",
   "nbconvert_exporter": "python",
   "pygments_lexer": "ipython3",
   "version": "3.8.5"
  }
 },
 "nbformat": 4,
 "nbformat_minor": 2
}
